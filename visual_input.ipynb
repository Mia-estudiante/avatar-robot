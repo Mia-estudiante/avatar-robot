{
 "cells": [
  {
   "cell_type": "code",
   "execution_count": null,
   "id": "3c3b1c46-9f5c-41c1-9101-85db8709ec0d",
   "metadata": {},
   "outputs": [],
   "source": [
    "# Copyright (c) Meta Platforms, Inc. and affiliates."
   ]
  },
  {
   "cell_type": "markdown",
   "id": "6e7a0db5-7f04-4845-8b11-684fe6e9f7f2",
   "metadata": {},
   "source": [
    "# Run Segment Anything Model 2 on a live video stream\n"
   ]
  },
  {
   "cell_type": "code",
   "execution_count": null,
   "id": "e5318a85-5bf7-4880-b2b3-15e4db24d796",
   "metadata": {},
   "outputs": [],
   "source": [
    "import cv2\n",
    "import numpy as np\n",
    "import torch\n",
    "\n",
    "from visualizer import Visualizer\n",
    "\n",
    "from sam2.build_sam import build_sam2_object_tracker\n",
    "from mouse import Selector"
   ]
  },
  {
   "cell_type": "markdown",
   "id": "ae8e0779-751f-4224-9b04-ed0f0b406500",
   "metadata": {},
   "source": [
    "### Loading the SAM 2 object tracker\n"
   ]
  },
  {
   "cell_type": "code",
   "execution_count": null,
   "id": "1747ebab-8c86-4bc2-81ad-0a7836354da2",
   "metadata": {},
   "outputs": [],
   "source": [
    "NUM_OBJECTS = 1\n",
    "SAM_CHECKPOINT_FILEPATH = \"./checkpoints/sam2.1_hiera_tiny.pt\"\n",
    "SAM_CONFIG_FILEPATH = \"./configs/samurai/sam2.1_hiera_t.yaml\"\n",
    "DEVICE = 'cuda:0'"
   ]
  },
  {
   "cell_type": "code",
   "execution_count": null,
   "id": "c64f966e",
   "metadata": {},
   "outputs": [],
   "source": [
    "video_stream = cv2.VideoCapture(0)\n",
    "\n",
    "video_height = int(video_stream.get(cv2.CAP_PROP_FRAME_HEIGHT))\n",
    "video_width = int(video_stream.get(cv2.CAP_PROP_FRAME_WIDTH))\n",
    "\n",
    "sam = build_sam2_object_tracker(num_objects=NUM_OBJECTS,\n",
    "                                config_file=SAM_CONFIG_FILEPATH,\n",
    "                                ckpt_path=SAM_CHECKPOINT_FILEPATH,\n",
    "                                device=DEVICE,\n",
    "                                verbose=False\n",
    "                                )"
   ]
  },
  {
   "cell_type": "markdown",
   "id": "f4a30cba",
   "metadata": {},
   "source": [
    "### Select an object through the selector and track"
   ]
  },
  {
   "cell_type": "code",
   "execution_count": null,
   "id": "bb71bad0",
   "metadata": {},
   "outputs": [],
   "source": [
    "visualizer = Visualizer(video_width=video_width, video_height=video_height)\n",
    "\n",
    "selected = False\n",
    "selector = Selector()\n",
    "\n",
    "with torch.inference_mode(), torch.autocast('cuda:0', dtype=torch.bfloat16):\n",
    "    while video_stream.isOpened():\n",
    "\n",
    "        ret, frame = video_stream.read()\n",
    "        if not ret:\n",
    "            break\n",
    "\n",
    "        img = cv2.cvtColor(frame, cv2.COLOR_BGR2RGB)\n",
    "        if not selected:\n",
    "            selection = selector.select(frame)\n",
    "            if selection[\"point\"] is None and selection[\"box\"] is None:\n",
    "                continue\n",
    "            if selection[\"point\"] is not None:\n",
    "                sam_out = sam.track_new_object(img=img, points=selection[\"point\"])\n",
    "            else:\n",
    "                sam_out = sam.track_new_object(img=img, box=selection[\"box\"])\n",
    "            selected = True\n",
    "\n",
    "            \n",
    "        else:\n",
    "            sam_out = sam.track_all_objects(img=img)\n",
    "        \n",
    "            ret, frame = video_stream.read()\n",
    "            visualizer.add_frame(frame=frame, mask=sam_out['pred_masks'])"
   ]
  },
  {
   "cell_type": "code",
   "execution_count": null,
   "id": "abb381ef",
   "metadata": {},
   "outputs": [],
   "source": [
    "video_stream.release()\n",
    "cv2.destroyAllWindows()"
   ]
  }
 ],
 "metadata": {
  "kernelspec": {
   "display_name": "lang sam",
   "language": "python",
   "name": "lang_sam"
  },
  "language_info": {
   "codemirror_mode": {
    "name": "ipython",
    "version": 3
   },
   "file_extension": ".py",
   "mimetype": "text/x-python",
   "name": "python",
   "nbconvert_exporter": "python",
   "pygments_lexer": "ipython3",
   "version": "3.11.11"
  }
 },
 "nbformat": 4,
 "nbformat_minor": 5
}
